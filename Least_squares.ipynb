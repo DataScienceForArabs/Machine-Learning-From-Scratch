{
 "cells": [
  {
   "cell_type": "code",
   "execution_count": null,
   "metadata": {},
   "outputs": [],
   "source": []
  },
  {
   "cell_type": "code",
   "execution_count": 184,
   "metadata": {
    "colab": {
     "base_uri": "https://localhost:8080/",
     "height": 34
    },
    "colab_type": "code",
    "id": "e5ylFIvlCEym",
    "outputId": "fbc88edd-7b26-4735-83bf-b404b76f9c90"
   },
   "outputs": [],
   "source": [
    "import numpy as np\n",
    "import random\n",
    "import matplotlib.pyplot as plt\n"
   ]
  },
  {
   "cell_type": "code",
   "execution_count": 199,
   "metadata": {},
   "outputs": [
    {
     "name": "stdout",
     "output_type": "stream",
     "text": [
      "original paramters 0.9229626928026926 0.1348801892778223\n"
     ]
    }
   ],
   "source": [
    "## Ramdom values X slope intercept  \n",
    "X = np.random.rand(100) \n",
    "noise=np.random.rand(100) \n",
    "\n",
    "m,c=np.random.rand(2)\n",
    "m=m*2-1\n",
    "\n",
    "Y=m*X+c\n",
    "Y=Y+0.25*m*noise\n",
    "\n",
    "print('original paramters',m,c)\n"
   ]
  },
  {
   "cell_type": "code",
   "execution_count": 200,
   "metadata": {},
   "outputs": [
    {
     "data": {
      "image/png": "[encoded data removed]",
      "text/plain": [
       "<Figure size 432x288 with 1 Axes>"
      ]
     },
     "metadata": {
      "needs_background": "light"
     },
     "output_type": "display_data"
    }
   ],
   "source": [
    "\n",
    "plt.scatter(X, Y, color='red')    \n",
    "plt.title(' Values')\n",
    "plt.xlabel('X')\n",
    "plt.ylabel('Y')\n",
    "plt.show()\n",
    "\n"
   ]
  },
  {
   "cell_type": "code",
   "execution_count": 201,
   "metadata": {},
   "outputs": [
    {
     "name": "stdout",
     "output_type": "stream",
     "text": [
      "0.531348807564412\n"
     ]
    }
   ],
   "source": [
    "mean_x=np.mean(X)\n",
    "print(mean_x)"
   ]
  },
  {
   "cell_type": "code",
   "execution_count": 202,
   "metadata": {},
   "outputs": [
    {
     "name": "stdout",
     "output_type": "stream",
     "text": [
      "0.74210887977381\n"
     ]
    }
   ],
   "source": [
    "mean_y=np.mean(Y)\n",
    "print(mean_y)"
   ]
  },
  {
   "cell_type": "code",
   "execution_count": 203,
   "metadata": {},
   "outputs": [],
   "source": [
    "Xi_Xbar=X-mean_x #(x-x')\n",
    "Yi_Ybar=Y-mean_y #(y-y')\n",
    "\n",
    "#print(np.sum(Xi_Xbar))\n",
    "#print(np.sum(Yi_Ybar))"
   ]
  },
  {
   "cell_type": "code",
   "execution_count": 204,
   "metadata": {},
   "outputs": [],
   "source": [
    "numerator=Xi_Xbar*Yi_Ybar #(x-x')(y-y')\n",
    "denominator=Xi_Xbar*Xi_Xbar #(x-x')(x-x')"
   ]
  },
  {
   "cell_type": "code",
   "execution_count": 205,
   "metadata": {},
   "outputs": [
    {
     "name": "stdout",
     "output_type": "stream",
     "text": [
      "original  0.9229626928026926 0.1348801892778223\n",
      "estimated 0.9807252923482709 0.22100166513629693\n"
     ]
    },
    {
     "data": {
      "image/png": "[encoded data removed]",
      "text/plain": [
       "<Figure size 432x288 with 1 Axes>"
      ]
     },
     "metadata": {
      "needs_background": "light"
     },
     "output_type": "display_data"
    }
   ],
   "source": [
    "b1=np.sum(numerator)/np.sum(denominator)\n",
    "b0=mean_y-b1*mean_x\n",
    "\n",
    "print('original ',m,c)\n",
    "print('estimated',b1,b0)\n",
    "Yhat=b1*X+b0\n",
    "#viz_linear(X,Yhat,'Estimated','')\n",
    "\n",
    "plt.scatter(X, Y, color='red')    \n",
    "plt.scatter(X, Yhat, color='blue')    \n",
    "plt.title(' Values')\n",
    "plt.xlabel('X')\n",
    "plt.ylabel('Y')\n",
    "plt.show()\n",
    "    "
   ]
  },
  {
   "cell_type": "code",
   "execution_count": null,
   "metadata": {},
   "outputs": [],
   "source": []
  },
  {
   "cell_type": "code",
   "execution_count": null,
   "metadata": {},
   "outputs": [],
   "source": []
  },
  {
   "cell_type": "code",
   "execution_count": null,
   "metadata": {},
   "outputs": [],
   "source": []
  }
 ],
 "metadata": {
  "accelerator": "GPU",
  "colab": {
   "collapsed_sections": [],
   "name": "ultralytics/YOLOv3",
   "provenance": [],
   "version": "0.3.2"
  },
  "kernelspec": {
   "display_name": "Python 3",
   "language": "python",
   "name": "python3"
  },
  "language_info": {
   "codemirror_mode": {
    "name": "ipython",
    "version": 3
   },
   "file_extension": ".py",
   "mimetype": "text/x-python",
   "name": "python",
   "nbconvert_exporter": "python",
   "pygments_lexer": "ipython3",
   "version": "3.8.3"
  }
 },
 "nbformat": 4,
 "nbformat_minor": 1
}
